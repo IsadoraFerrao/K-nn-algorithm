{
  "cells": [
    {
      "cell_type": "markdown",
      "metadata": {
        "id": "kjKRSsWb9s3p"
      },
      "source": [
        "# MBA em Ciência de Dados\n",
        "### Universidade de São Paulo, São Carlos, Brasil\n",
        "\n",
        "**Disciplina:** Aprendizado de Máquina\n",
        "\n",
        "**Tutora:** Me. Isadora Garcia Ferrão\n",
        "📧 isadoraferrao@usp.be\n",
        "🌐 [linkedin](https://www.linkedin.com/in/isadora-ferrao/)"
      ]
    },
    {
      "cell_type": "markdown",
      "metadata": {
        "id": "dNQCUucR4BMF"
      },
      "source": [
        "# Case: Algoritmo k-NN com o dataset Wine quality\n",
        "**Objetivo:** Análise de desempenho do K-NN na classificação de vinhos usando métricas de distância.\n",
        "\n",
        "Dataset disponível em: https://archive.ics.uci.edu/dataset/109/wine\n",
        "Dataset disponível em: https://archive.ics.uci.edu/dataset/109/wine"
      ]
    },
    {
      "cell_type": "markdown",
      "metadata": {
        "id": "8_BWys_jdE_v"
      },
      "source": [
        "* Importação das biblitecas e carregamento do dataset"
      ]
    },
    {
      "cell_type": "code",
      "execution_count": 1,
      "metadata": {},
      "outputs": [],
      "source": [
        "import pandas as pd\n",
        "from sklearn.model_selection import train_test_split\n",
        "from sklearn.neighbors import KNeighborsClassifier\n",
        "from sklearn.metrics import accuracy_score, confusion_matrix, classification_report\n",
        "from sklearn.preprocessing import StandardScaler\n",
        "import matplotlib.pyplot as plt\n",
        "import seaborn as sns\n",
        "\n",
        "url = 'https://archive.ics.uci.edu/ml/machine-learning-databases/wine-quality/winequality-red.csv'\n",
        "data = pd.read_csv(url, sep=';')"
      ]
    },
    {
      "cell_type": "code",
      "execution_count": null,
      "metadata": {},
      "outputs": [],
      "source": [
        "# Exibir as primeiras linhas do dataset para ter uma visão geral dos dados\n",
        "print(\"Primeiras linhas do dataset:\")\n",
        "print(data.head())"
      ]
    },
    {
      "cell_type": "code",
      "execution_count": 3,
      "metadata": {},
      "outputs": [
        {
          "name": "stdout",
          "output_type": "stream",
          "text": [
            "\n",
            "Informações sobre o dataset:\n",
            "<class 'pandas.core.frame.DataFrame'>\n",
            "RangeIndex: 1599 entries, 0 to 1598\n",
            "Data columns (total 12 columns):\n",
            " #   Column                Non-Null Count  Dtype  \n",
            "---  ------                --------------  -----  \n",
            " 0   fixed acidity         1599 non-null   float64\n",
            " 1   volatile acidity      1599 non-null   float64\n",
            " 2   citric acid           1599 non-null   float64\n",
            " 3   residual sugar        1599 non-null   float64\n",
            " 4   chlorides             1599 non-null   float64\n",
            " 5   free sulfur dioxide   1599 non-null   float64\n",
            " 6   total sulfur dioxide  1599 non-null   float64\n",
            " 7   density               1599 non-null   float64\n",
            " 8   pH                    1599 non-null   float64\n",
            " 9   sulphates             1599 non-null   float64\n",
            " 10  alcohol               1599 non-null   float64\n",
            " 11  quality               1599 non-null   int64  \n",
            "dtypes: float64(11), int64(1)\n",
            "memory usage: 150.0 KB\n",
            "None\n"
          ]
        }
      ],
      "source": [
        "# Exibir informações sobre o dataset, como tipos de dados e contagem de valores não nulos\n",
        "print(\"\\nInformações sobre o dataset:\")\n",
        "print(data.info())"
      ]
    },
    {
      "cell_type": "code",
      "execution_count": 4,
      "metadata": {},
      "outputs": [
        {
          "name": "stdout",
          "output_type": "stream",
          "text": [
            "\n",
            "Estatísticas descritivas do dataset:\n",
            "       fixed acidity  volatile acidity  citric acid  residual sugar  \\\n",
            "count    1599.000000       1599.000000  1599.000000     1599.000000   \n",
            "mean        8.319637          0.527821     0.270976        2.538806   \n",
            "std         1.741096          0.179060     0.194801        1.409928   \n",
            "min         4.600000          0.120000     0.000000        0.900000   \n",
            "25%         7.100000          0.390000     0.090000        1.900000   \n",
            "50%         7.900000          0.520000     0.260000        2.200000   \n",
            "75%         9.200000          0.640000     0.420000        2.600000   \n",
            "max        15.900000          1.580000     1.000000       15.500000   \n",
            "\n",
            "         chlorides  free sulfur dioxide  total sulfur dioxide      density  \\\n",
            "count  1599.000000          1599.000000           1599.000000  1599.000000   \n",
            "mean      0.087467            15.874922             46.467792     0.996747   \n",
            "std       0.047065            10.460157             32.895324     0.001887   \n",
            "min       0.012000             1.000000              6.000000     0.990070   \n",
            "25%       0.070000             7.000000             22.000000     0.995600   \n",
            "50%       0.079000            14.000000             38.000000     0.996750   \n",
            "75%       0.090000            21.000000             62.000000     0.997835   \n",
            "max       0.611000            72.000000            289.000000     1.003690   \n",
            "\n",
            "                pH    sulphates      alcohol      quality  \n",
            "count  1599.000000  1599.000000  1599.000000  1599.000000  \n",
            "mean      3.311113     0.658149    10.422983     5.636023  \n",
            "std       0.154386     0.169507     1.065668     0.807569  \n",
            "min       2.740000     0.330000     8.400000     3.000000  \n",
            "25%       3.210000     0.550000     9.500000     5.000000  \n",
            "50%       3.310000     0.620000    10.200000     6.000000  \n",
            "75%       3.400000     0.730000    11.100000     6.000000  \n",
            "max       4.010000     2.000000    14.900000     8.000000  \n"
          ]
        }
      ],
      "source": [
        "# Exibir estatísticas descritivas do dataset, como média, desvio padrão e percentis\n",
        "print(\"\\nEstatísticas descritivas do dataset:\")\n",
        "print(data.describe())"
      ]
    },
    {
      "cell_type": "code",
      "execution_count": 5,
      "metadata": {},
      "outputs": [],
      "source": [
        "# Separar as features (características dos vinhos) e o target (qualidade do vinho)\n",
        "X = data.drop('quality', axis=1)  # Features: todas as colunas exceto 'quality'\n",
        "y = data['quality']  # Target: coluna 'quality'"
      ]
    },
    {
      "cell_type": "code",
      "execution_count": 6,
      "metadata": {},
      "outputs": [],
      "source": [
        "# Normalização\n",
        "scaler = StandardScaler() \n",
        "X_scaled = scaler.fit_transform(X)"
      ]
    },
    {
      "cell_type": "markdown",
      "metadata": {},
      "source": [
        "* Divisão do dataset"
      ]
    },
    {
      "cell_type": "code",
      "execution_count": 7,
      "metadata": {},
      "outputs": [],
      "source": [
        "X_train, X_test, y_train, y_test = train_test_split(X_scaled, y, test_size=0.3, random_state=42)"
      ]
    },
    {
      "cell_type": "markdown",
      "metadata": {},
      "source": [
        "* Aplicação do K-NN"
      ]
    },
    {
      "cell_type": "code",
      "execution_count": 8,
      "metadata": {},
      "outputs": [
        {
          "name": "stdout",
          "output_type": "stream",
          "text": [
            "\n",
            "Acurácia do modelo: 0.5708\n",
            "\n",
            "Análise adicional:\n",
            "Matriz de Confusão:\n",
            "[[  0   0   0   1   0   0]\n",
            " [  0   1   8   8   0   0]\n",
            " [  1   1 137  52   4   0]\n",
            " [  0   1  68 112  19   0]\n",
            " [  0   0   9  28  24   0]\n",
            " [  0   0   1   2   3   0]]\n",
            "\n",
            "Relatório de Classificação:\n",
            "              precision    recall  f1-score   support\n",
            "\n",
            "           3       0.00      0.00      0.00         1\n",
            "           4       0.33      0.06      0.10        17\n",
            "           5       0.61      0.70      0.66       195\n",
            "           6       0.55      0.56      0.56       200\n",
            "           7       0.48      0.39      0.43        61\n",
            "           8       0.00      0.00      0.00         6\n",
            "\n",
            "    accuracy                           0.57       480\n",
            "   macro avg       0.33      0.29      0.29       480\n",
            "weighted avg       0.55      0.57      0.56       480\n",
            "\n"
          ]
        },
        {
          "name": "stderr",
          "output_type": "stream",
          "text": [
            "c:\\Users\\User\\AppData\\Local\\Programs\\Python\\Python311\\Lib\\site-packages\\sklearn\\metrics\\_classification.py:1471: UndefinedMetricWarning: Precision and F-score are ill-defined and being set to 0.0 in labels with no predicted samples. Use `zero_division` parameter to control this behavior.\n",
            "  _warn_prf(average, modifier, msg_start, len(result))\n",
            "c:\\Users\\User\\AppData\\Local\\Programs\\Python\\Python311\\Lib\\site-packages\\sklearn\\metrics\\_classification.py:1471: UndefinedMetricWarning: Precision and F-score are ill-defined and being set to 0.0 in labels with no predicted samples. Use `zero_division` parameter to control this behavior.\n",
            "  _warn_prf(average, modifier, msg_start, len(result))\n",
            "c:\\Users\\User\\AppData\\Local\\Programs\\Python\\Python311\\Lib\\site-packages\\sklearn\\metrics\\_classification.py:1471: UndefinedMetricWarning: Precision and F-score are ill-defined and being set to 0.0 in labels with no predicted samples. Use `zero_division` parameter to control this behavior.\n",
            "  _warn_prf(average, modifier, msg_start, len(result))\n"
          ]
        },
        {
          "data": {
            "image/png": "[encoded data removed]",
            "text/plain": [
              "<Figure size 1000x700 with 2 Axes>"
            ]
          },
          "metadata": {},
          "output_type": "display_data"
        }
      ],
      "source": [
        "# Inicializar o classificador k-NN com 5 vizinhos e a métrica de distância euclidiana\n",
        "model = KNeighborsClassifier(n_neighbors=5, metric='euclidean')\n",
        "model.fit(X_train, y_train)  \n",
        "y_pred = model.predict(X_test)\n",
        "\n",
        "accuracy = accuracy_score(y_test, y_pred)\n",
        "print(f\"\\nAcurácia do modelo: {accuracy:.4f}\")\n",
        "\n",
        "conf_matrix = confusion_matrix(y_test, y_pred)\n",
        "print(\"Matriz de Confusão:\")\n",
        "print(conf_matrix)\n",
        "\n",
        "class_report = classification_report(y_test, y_pred)\n",
        "print(\"\\nRelatório de Classificação:\")\n",
        "print(class_report)\n",
        "\n",
        "plt.figure(figsize=(10, 7))  # Definir o tamanho da figura\n",
        "sns.heatmap(conf_matrix, annot=True, fmt='d', cmap='Blues', xticklabels=sorted(y.unique()), yticklabels=sorted(y.unique()))\n",
        "plt.xlabel('Previsão')  # Rótulo para o eixo x\n",
        "plt.ylabel('Real')  # Rótulo para o eixo y\n",
        "plt.title('Matriz de Confusão do Modelo k-NN')  # Título do gráfico\n",
        "plt.show()  # Exibir o gráfico"
      ]
    }
  ],
  "metadata": {
    "colab": {
      "collapsed_sections": [],
      "name": "pratica3.ipynb",
      "provenance": []
    },
    "kernelspec": {
      "display_name": "Python 3",
      "name": "python3"
    },
    "language_info": {
      "codemirror_mode": {
        "name": "ipython",
        "version": 3
      },
      "file_extension": ".py",
      "mimetype": "text/x-python",
      "name": "python",
      "nbconvert_exporter": "python",
      "pygments_lexer": "ipython3",
      "version": "3.11.3"
    }
  },
  "nbformat": 4,
  "nbformat_minor": 0
}
