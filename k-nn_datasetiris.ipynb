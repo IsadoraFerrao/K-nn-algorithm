{
  "cells": [
    {
      "cell_type": "markdown",
      "metadata": {
        "id": "kjKRSsWb9s3p"
      },
      "source": [
        "# MBA em Ciência de Dados\n",
        "### Universidade de São Paulo, São Carlos, Brasil\n",
        "\n",
        "**Disciplina:** Aprendizado de Máquina\n",
        "\n",
        "**Tutora:** Me. Isadora Garcia Ferrão\n",
        "📧 isadoraferrao@usp.be\n",
        "🌐 [linkedin](https://www.linkedin.com/in/isadora-ferrao/)"
      ]
    },
    {
      "cell_type": "markdown",
      "metadata": {
        "id": "dNQCUucR4BMF"
      },
      "source": [
        "# Case: Algoritmo k-NN com o dataset iris\n",
        "**Objetivo:** Criação de diferentes métricas de distância no classificador k-NN\n",
        "\n",
        "Dataset disponível no Kaggle em: https://www.kaggle.com/datasets/vikrishnan/iris-dataset"
      ]
    },
    {
      "cell_type": "markdown",
      "metadata": {
        "id": "8_BWys_jdE_v"
      },
      "source": [
        "* Importação das biblitecas e carregamento do dataset"
      ]
    },
    {
      "cell_type": "code",
      "execution_count": 20,
      "metadata": {},
      "outputs": [
        {
          "name": "stdout",
          "output_type": "stream",
          "text": [
            "Carregando e preparando o dataset Iris...\n",
            "Preparação do dataset concluída.\n"
          ]
        }
      ],
      "source": [
        "import pandas as pd\n",
        "from sklearn.datasets import load_iris  # Para carregar o dataset Iris\n",
        "from sklearn.model_selection import train_test_split  # Para dividir os dados em treinamento e teste\n",
        "from sklearn.neighbors import KNeighborsClassifier  # Para o classificador k-NN\n",
        "from sklearn.metrics import accuracy_score, confusion_matrix, classification_report  # Para avaliar o desempenho\n",
        "from sklearn.preprocessing import StandardScaler  # Para normalizar os dados\n",
        "import matplotlib.pyplot as plt\n",
        "import seaborn as sns\n",
        "\n",
        "print(\"Carregando e preparando o dataset Iris...\")\n",
        "\n",
        "# Carregar o dataset Iris\n",
        "iris = load_iris()  # Função que carrega o dataset Iris do scikit-learn\n",
        "X = iris.data  # Características (features) do dataset: comprimento e largura das sépalas e pétalas\n",
        "y = iris.target  # Rótulos (targets): espécie da flor\n",
        "\n",
        "\n",
        "# Normalizar os dados\n",
        "scaler = StandardScaler()  # Cria um objeto de normalização\n",
        "X_scaled = scaler.fit_transform(X)  # Ajusta o scaler aos dados e transforma X para ter média 0 e desvio padrão 1\n",
        "\n",
        "# Dividir os dados em conjuntos de treinamento e teste\n",
        "X_train, X_test, y_train, y_test = train_test_split(X_scaled, y, test_size=0.3, random_state=42)\n",
        "# Divide os dados em 70% para treinamento e 30% para teste, garantindo a mesma divisão com random_state=42\n",
        "\n",
        "print(\"Preparação do dataset concluída.\")"
      ]
    },
    {
      "cell_type": "code",
      "execution_count": 21,
      "metadata": {},
      "outputs": [
        {
          "name": "stdout",
          "output_type": "stream",
          "text": [
            "\n",
            "Testando métrica de distância: euclidean\n",
            "Acurácia com distância euclidean: 1.0000\n",
            "\n",
            "Testando métrica de distância: manhattan\n",
            "Acurácia com distância manhattan: 1.0000\n"
          ]
        }
      ],
      "source": [
        "# Definir métricas de distância a serem testadas\n",
        "distances = ['euclidean', 'manhattan']  # Lista de métricas de distância a serem testadas\n",
        "best_distance = None  # Inicializa a melhor métrica de distância\n",
        "best_accuracy = 0  # Inicializa a melhor acurácia\n",
        "\n",
        "# Inicializar variáveis para armazenar os resultados\n",
        "accuracies = []  # Lista para armazenar a acurácia de cada métrica de distância\n",
        "\n",
        "# Loop para testar diferentes métricas de distância\n",
        "for distance in distances:\n",
        "    print(f\"\\nTestando métrica de distância: {distance}\")\n",
        "\n",
        "    # Inicializar o classificador k-NN com a métrica de distância atual\n",
        "    model = KNeighborsClassifier(n_neighbors=5, metric=distance)\n",
        "    # Cria um classificador k-NN com 5 vizinhos e a métrica de distância especificada\n",
        "    model.fit(X_train, y_train)\n",
        "    # Treina o modelo com os dados de treinamento\n",
        "    \n",
        "    # Fazer previsões e avaliar o desempenho\n",
        "    y_pred = model.predict(X_test)  # Faz previsões com o conjunto de teste\n",
        "    accuracy = accuracy_score(y_test, y_pred)  # Calcula a acurácia das previsões\n",
        "    accuracies.append((distance, accuracy))  # Adiciona a acurácia à lista de resultados\n",
        "    \n",
        "    # Exibir a acurácia para a métrica atual\n",
        "    print(f\"Acurácia com distância {distance}: {accuracy:.4f}\")\n",
        "    \n",
        "    # Atualizar melhores resultados\n",
        "    if accuracy > best_accuracy:\n",
        "        best_distance = distance  # Atualiza a melhor métrica de distância\n",
        "        best_accuracy = accuracy  # Atualiza a melhor acurácia"
      ]
    },
    {
      "cell_type": "markdown",
      "metadata": {},
      "source": [
        "* Resultados"
      ]
    },
    {
      "cell_type": "code",
      "execution_count": 22,
      "metadata": {},
      "outputs": [
        {
          "name": "stdout",
          "output_type": "stream",
          "text": [
            "\n",
            "Melhor métrica de distância: euclidean\n",
            "Melhor acurácia: 1.0000\n",
            "\n",
            "Tabela de Acurácias:\n",
            "  Métrica de Distância  Acurácia\n",
            "0            euclidean       1.0\n",
            "1            manhattan       1.0\n"
          ]
        }
      ],
      "source": [
        "\n",
        "# Mostrar resultados do melhor modelo\n",
        "print(f\"\\nMelhor métrica de distância: {best_distance}\")\n",
        "print(f\"Melhor acurácia: {best_accuracy:.4f}\")\n",
        "\n",
        "# Exibir uma tabela com as acurácias para diferentes métricas\n",
        "accuracies_df = pd.DataFrame(accuracies, columns=['Métrica de Distância', 'Acurácia'])\n",
        "print(\"\\nTabela de Acurácias:\")\n",
        "print(accuracies_df)"
      ]
    },
    {
      "cell_type": "code",
      "execution_count": 23,
      "metadata": {},
      "outputs": [
        {
          "name": "stdout",
          "output_type": "stream",
          "text": [
            "Matriz de Confusão:\n",
            "[[19  0  0]\n",
            " [ 0 13  0]\n",
            " [ 0  0 13]]\n",
            "\n",
            "Relatório de Classificação:\n",
            "              precision    recall  f1-score   support\n",
            "\n",
            "      setosa       1.00      1.00      1.00        19\n",
            "  versicolor       1.00      1.00      1.00        13\n",
            "   virginica       1.00      1.00      1.00        13\n",
            "\n",
            "    accuracy                           1.00        45\n",
            "   macro avg       1.00      1.00      1.00        45\n",
            "weighted avg       1.00      1.00      1.00        45\n",
            "\n"
          ]
        },
        {
          "data": {
            "image/png": "[encoded data removed]",
            "text/plain": [
              "<Figure size 800x600 with 2 Axes>"
            ]
          },
          "metadata": {},
          "output_type": "display_data"
        }
      ],
      "source": [
        "# Calcular e exibir a matriz de confusão para a melhor métrica de distância\n",
        "model_best = KNeighborsClassifier(n_neighbors=5, metric=best_distance)\n",
        "model_best.fit(X_train, y_train)\n",
        "y_pred_best = model_best.predict(X_test)\n",
        "conf_matrix = confusion_matrix(y_test, y_pred_best)\n",
        "print(\"Matriz de Confusão:\")\n",
        "print(conf_matrix)\n",
        "\n",
        "# Exibir o relatório de classificação para a melhor métrica\n",
        "class_report = classification_report(y_test, y_pred_best, target_names=iris.target_names)\n",
        "print(\"\\nRelatório de Classificação:\")\n",
        "print(class_report)\n",
        "\n",
        "# Visualizar a matriz de confusão\n",
        "plt.figure(figsize=(8, 6))\n",
        "sns.heatmap(conf_matrix, annot=True, fmt='d', cmap='Blues', xticklabels=iris.target_names, yticklabels=iris.target_names)\n",
        "plt.xlabel('Previsão')\n",
        "plt.ylabel('Real')\n",
        "plt.title(f'Matriz de Confusão - Métrica {best_distance}')\n",
        "plt.show()"
      ]
    }
  ],
  "metadata": {
    "colab": {
      "collapsed_sections": [],
      "name": "pratica3.ipynb",
      "provenance": []
    },
    "kernelspec": {
      "display_name": "Python 3",
      "name": "python3"
    },
    "language_info": {
      "codemirror_mode": {
        "name": "ipython",
        "version": 3
      },
      "file_extension": ".py",
      "mimetype": "text/x-python",
      "name": "python",
      "nbconvert_exporter": "python",
      "pygments_lexer": "ipython3",
      "version": "3.11.3"
    }
  },
  "nbformat": 4,
  "nbformat_minor": 0
}
